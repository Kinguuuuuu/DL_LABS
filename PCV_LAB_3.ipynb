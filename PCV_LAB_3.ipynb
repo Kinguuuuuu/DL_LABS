{
  "cells": [
    {
      "cell_type": "markdown",
      "source": [
        "# ID NO : 190031226\n",
        "# NAME  : PAKALAPATI MAHIDHAR\n",
        "# PERCEPTION AND COMPUTER VISION LAB - 3"
      ],
      "metadata": {
        "id": "TwVU3nX8o4Yp"
      },
      "id": "TwVU3nX8o4Yp"
    },
    {
      "cell_type": "code",
      "source": [
        "import cv2 as cv\n",
        "import datetime\n",
        "cap = cv.VideoCapture(0)\n",
        "frame_width = int(cap.get(3))\n",
        "frame_height = int(cap.get(4))\n",
        "   \n",
        "size = (frame_width, frame_height)\n",
        "slowresult = cv.VideoWriter('slow.avi', \n",
        "                         cv.VideoWriter_fourcc(*'MJPG'),\n",
        "                         10, size)\n",
        "fastresult = cv.VideoWriter('fast.avi', \n",
        "                         cv.VideoWriter_fourcc(*'MJPG'),\n",
        "                         10, size)\n",
        "if not cap.isOpened():\n",
        "    print(\"Cannot open camera\")\n",
        "    exit()\n",
        "while True:\n",
        "    # Capture frame-by-frame\n",
        "    ret, frame = cap.read()\n",
        "    # if frame is read correctly ret is True\n",
        "    if not ret:\n",
        "        print(\"Can't receive frame (stream end?). Exiting ...\")\n",
        "        break\n",
        "    # Our operations on the frame come here\n",
        "    gray = cv.cvtColor(frame, cv.COLOR_BGR2GRAY)\n",
        "    gray =cv.flip(gray,0)\n",
        "    dt = str(datetime.datetime.now())\n",
        "    font = cv.FONT_HERSHEY_SCRIPT_COMPLEX\n",
        "    frame = cv.putText(frame, dt,\n",
        "                            (10, 100),\n",
        "                            font, 1,\n",
        "                            (210, 155, 155),\n",
        "                            4, cv.LINE_8)\n",
        "    gray = cv.putText(gray, dt,\n",
        "                            (10, 100),\n",
        "                            font, 1,\n",
        "                            (210, 155, 155),\n",
        "                            4, cv.LINE_8)\n",
        "    slowresult.write(frame)\n",
        "    # Display the resulting frame\n",
        "    cv.imshow('gray', gray)\n",
        "    cv.imshow('frame',frame)\n",
        "    if cv.waitKey(1) == ord('q'):\n",
        "        break\n",
        "# When everything done, release the capture\n",
        "cap.release()\n",
        "slowresult.release()\n",
        "cv.destroyAllWindows()"
      ],
      "metadata": {
        "id": "hYu4ET52o7Zz"
      },
      "id": "hYu4ET52o7Zz",
      "execution_count": null,
      "outputs": []
    }
  ],
  "metadata": {
    "kernelspec": {
      "display_name": "Python 3 (ipykernel)",
      "language": "python",
      "name": "python3"
    },
    "language_info": {
      "codemirror_mode": {
        "name": "ipython",
        "version": 3
      },
      "file_extension": ".py",
      "mimetype": "text/x-python",
      "name": "python",
      "nbconvert_exporter": "python",
      "pygments_lexer": "ipython3",
      "version": "3.9.7"
    },
    "colab": {
      "name": "190031226_PCV_LAB-3",
      "provenance": []
    }
  },
  "nbformat": 4,
  "nbformat_minor": 5
}